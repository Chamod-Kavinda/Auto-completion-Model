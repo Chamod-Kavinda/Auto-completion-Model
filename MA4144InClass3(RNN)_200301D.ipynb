{
 "cells": [
  {
   "cell_type": "markdown",
   "id": "dda0e25f-476a-43c0-b3e7-f96a707be566",
   "metadata": {
    "deletable": false,
    "editable": false
   },
   "source": [
    "# <center>Recurrent Neural Networks</center>\n",
    "## <center>Inclass Project 3 - MA4144</center>\n",
    "\n",
    "This project contains 10 tasks/questions to be completed, some require written answers. Open a markdown cell below the respective question that require written answers and provide (type) your answers. Questions that required written answers are given in blue fonts. Almost all written questions are open ended, they do not have a correct or wrong answer. You are free to give your opinions, but please provide related answers within the context.\n",
    "\n",
    "After finishing project run the entire notebook once and **save the notebook as a pdf** (File menu -> Save and Export Notebook As -> PDF). You are **required to upload this PDF on moodle**.\n",
    "\n",
    "***"
   ]
  },
  {
   "cell_type": "markdown",
   "id": "03930b71-f7aa-4eb8-a078-70fc89a1ac16",
   "metadata": {
    "deletable": false,
    "editable": false
   },
   "source": [
    "## Outline of the project\n",
    "\n",
    "The aim of the project is to build a RNN model to suggest autocompletion of half typed words. You may have seen this in many day today applications; typing an email, a text message etc. For example, suppose you type in the four letter \"univ\", the application may suggest you to autocomplete it by \"university\".\n",
    "\n",
    "![Autocomplete](https://d33v4339jhl8k0.cloudfront.net/docs/assets/5c12e83004286304a71d5b72/images/66d0cb106eb51e63b8f9fbc6/file-gBQe016VYt.gif)\n",
    "\n",
    "We will train a RNN to suggest possible autocompletes given $3$ - $4$ starting letters. That is if we input a string \"univ\" hopefully we expect to see an output like \"university\", \"universal\" etc.\n",
    "\n",
    "For this we will use a text file (wordlist.txt) containing 10,000 common English words (you'll find the file on the moodle link). The list of words will be the \"**vocabulary**\" for our model.\n",
    "\n",
    "We will use the Python **torch library** to implement our autocomplete model. \n",
    "\n",
    "***\n"
   ]
  },
  {
   "cell_type": "markdown",
   "id": "f4db6bc0-f7e0-473d-a172-e6579deea2ee",
   "metadata": {
    "deletable": false,
    "editable": false
   },
   "source": [
    "Use the below cell to use any include any imports"
   ]
  },
  {
   "cell_type": "code",
   "execution_count": 1,
   "id": "76fdc286-3211-4a8f-9802-29d28a324bea",
   "metadata": {},
   "outputs": [],
   "source": [
    "import torch\n",
    "import torch.nn as nn\n",
    "import torch.optim as optim\n",
    "import numpy as np\n",
    "import matplotlib.pyplot as plt\n",
    "import random\n",
    "from tqdm import tqdm"
   ]
  },
  {
   "cell_type": "markdown",
   "id": "8622b61b-dba8-47bb-8e07-92b77e78f4fa",
   "metadata": {
    "deletable": false,
    "editable": false
   },
   "source": [
    "## Section 1: Preparing the vocabulary"
   ]
  },
  {
   "cell_type": "code",
   "execution_count": 2,
   "id": "555a82e5-e56c-4075-a2a2-071633cd4d4c",
   "metadata": {},
   "outputs": [],
   "source": [
    "WORD_SIZE = 13"
   ]
  },
  {
   "cell_type": "markdown",
   "id": "ef4f44ef-91d0-4d0e-afb5-a66240c9e1d4",
   "metadata": {
    "deletable": false,
    "editable": false
   },
   "source": [
    "**Q1.** In the following cell provide code to load the text file (each word is in a newline), then extract the words (in lowercase) into a list.\n",
    "\n",
    "For practical reasons of training the model we will only use words that are longer that $3$ letters and that have a maximum length of WORD_SIZE (this will be a constant we set at the beginning - you can change this and experiment with different WORD_SIZEs). As seen above it is set to $13$.\n",
    "\n",
    "So out of the extracted list of words filter out those words that match our criteria on word length.\n",
    "\n",
    "To train our model it is convenient to have words/strings of equal length. We will choose to convert every word to length of WORD_SIZE, by adding underscores to the end of the word if it is initially shorter than WORD_SIZE. For example, we will convert the word \"university\" (word length 10) into \"university___\" (wordlength 13). In your code include this conversion as well.\n",
    "\n",
    "Store the processed WORD_SIZE lengthed strings in a list called vocab."
   ]
  },
  {
   "cell_type": "code",
   "execution_count": 3,
   "id": "3219551c-a298-424a-a491-2d7f65a4ad6f",
   "metadata": {},
   "outputs": [
    {
     "name": "stdout",
     "output_type": "stream",
     "text": [
      "aaron________\n",
      "abandoned____\n",
      "aberdeen_____\n",
      "abilities____\n",
      "ability______\n",
      "able_________\n",
      "aboriginal___\n",
      "abortion_____\n",
      "about________\n",
      "above________\n"
     ]
    }
   ],
   "source": [
    "#TODO\n",
    "def prepare_vocabulary(file_path):\n",
    "    with open(file_path, 'r') as file:\n",
    "        words = [word.strip().lower() for word in file.readlines()]\n",
    "    \n",
    "    filtered_words = [word for word in words if 3 < len(word) <= WORD_SIZE]\n",
    "    vocab = [word.ljust(WORD_SIZE, '_') for word in filtered_words]\n",
    "    \n",
    "    return vocab\n",
    "\n",
    "file_path = 'wordlist.txt'\n",
    "vocab = prepare_vocabulary(file_path)\n",
    "\n",
    "for i in range(10):\n",
    "    print(vocab[i])\n",
    "\n"
   ]
  },
  {
   "cell_type": "markdown",
   "id": "69d3a6fe-c0a7-4808-aa1a-4c3ad6db6de3",
   "metadata": {
    "deletable": false,
    "editable": false
   },
   "source": [
    "<font color='blue'>In the above explanation it was mentioned \"for practical reasons of training the model we will only use words that are longer that $3$ letters and that have a certain maximum length\". In your opinion what could be those practical? Will hit help to build a better model?</font>"
   ]
  },
  {
   "cell_type": "markdown",
   "id": "aaf86cdd-96b2-40eb-8230-c3f04e93cfc4",
   "metadata": {},
   "source": [
    "**Answer**\n",
    "<font color='green'>\n",
    "\n",
    "The practical reason for using words longer than 3 letters and limiting the maximum length is to make the training process easier and more efficient.\n",
    "\n",
    "1) Short words are too simple: Words with 1-3 letters (like \"cat\" or \"the\") are too short to learn meaningful patterns. These words don’t give the model much useful information for understanding how letters relate to each other.\n",
    "\n",
    "2) Long words add complexity: If we allow very long words, the model becomes harder to train because it has to handle more possibilities and remember longer sequences. This can make training slower and increase errors.\n",
    "\n",
    "By focusing on words between 4 and 13 letters, we keep a balance, the model gets enough information to learn meaningful patterns without being overwhelmed by too much complexity. This helps the model perform better in predicting word completions.\n",
    "</font>"
   ]
  },
  {
   "cell_type": "markdown",
   "id": "552b2e6d-f771-4782-8b21-73c121565faa",
   "metadata": {
    "deletable": false,
    "editable": false
   },
   "source": [
    "**Q2** To input words into the model, we will need to convert each letter/character into a number. as we have seen above, the only characters in our list vocab will be the underscore and lowercase english letters. so we will convert these $27$ characters into numbers as follows: underscore -> $0$, 'a' -> $1$, 'b' -> $2$, $\\cdots$, 'z' -> $26$. In the following cell,\n",
    "\n",
    "(i) Implement a method called char_to_num, that takes in a valid character and outputs its numerical assignment.\n",
    "\n",
    "(ii) Implement a method called num_to_char, that takes in a valid number from $0$ to $26$ and outputs the corresponding character.\n",
    "\n",
    "(iii) Implement a method called word_to_numlist, that takes in a word from our vocabulary and outputs a (torch) tensor of numbers that corresponds to each character in the word in that order. For example: the word \"united_______\" will be converted to tensor([21, 14,  9, 20,  5,  4,  0,  0,  0,  0,  0,  0,  0]). You are encouraged to use your char_to_num method for this.\n",
    "\n",
    "(iv) Implement a method called numlist_to_word, that does the opposite of the above described word_to_numlist, given a tensor of numbers from $0$ to $26$, outputs the corresponding word. You are encouraged to use your  num_to_char method for this.\n",
    "\n",
    "Note: As mentioned since we are using the torch library we will be using tensors instead of the usual python lists or numpy arrays. Tensors are the list equivalent in torch. Torch models only accept tensors as input and they output tensors."
   ]
  },
  {
   "cell_type": "code",
   "execution_count": 4,
   "id": "054a4ab4-5883-4948-adc5-eb8916b6234d",
   "metadata": {},
   "outputs": [],
   "source": [
    "def char_to_num(char):\n",
    "\n",
    "    #TODO\n",
    "    if char == '_':\n",
    "        num = 0\n",
    "    elif char.isalpha() and char.islower():\n",
    "        num = ord(char) - ord('a') + 1\n",
    "    else:\n",
    "        raise ValueError(f\"Invalid character: {char}\")\n",
    "\n",
    "    return(num)\n",
    "\n",
    "def num_to_char(num):\n",
    "\n",
    "    #TODO\n",
    "    if num == 0:\n",
    "        char = '_'\n",
    "    elif 0 < num <= 26:\n",
    "        char = chr(num + ord('a') - 1)\n",
    "    else:\n",
    "        raise ValueError(f\"Out of range number: {num}\")\n",
    "\n",
    "    return(char)\n",
    "\n",
    "def word_to_numlist(word):\n",
    "\n",
    "    #TODO\n",
    "    numlist = torch.tensor([char_to_num(char) for char in word])\n",
    "\n",
    "    return(numlist)\n",
    "\n",
    "def numlist_to_word(numlist):\n",
    "\n",
    "    #TODO\n",
    "    word = ''.join(num_to_char(num.item()) for num in numlist)\n",
    "\n",
    "    return(word)"
   ]
  },
  {
   "cell_type": "markdown",
   "id": "028d1936-fadb-4ddb-9027-3a75960aa6b1",
   "metadata": {
    "deletable": false,
    "editable": false
   },
   "source": [
    "<font color='blue'>We convert letter into just numbers based on their aphabetical order, I claim that it is a very bad way to encode data such as letters to be fed into learning models, please write your explanation to or against my claim. If you are searching for reasons, the keyword 'categorical data' may be useful. Although the letters in our case are not treated as categorical data, the same reasons as for categorical data is applicable. Even if my claim is valid, at the end it won't matter due to something called \"embedding layers\" that we will use in our model. What is an embedding layer? What is it's purpose? Explain.</font>"
   ]
  },
  {
   "cell_type": "markdown",
   "id": "65de3f69-cd06-4adc-8150-2522802f345a",
   "metadata": {},
   "source": [
    "**Answer**\n",
    "<font color='green'>\n",
    "\n",
    "Converting letters into numbers based on their alphabetical order (such as 'a' -> 1, 'b' -> 2, etc.) is indeed a bad way to encode letters for a learning model. This is because there is no meaningful relationship between the numerical values assigned to the letters. For example, just because 'a' is assigned 1 and 'b' is assigned 2, it doesn’t mean that 'b' is \"greater\" or \"closer\" to 'a' in any meaningful way for a machine learning model. This is the same problem we encounter with categorical data: categories like \"apple\" and \"orange\" shouldn’t have a natural order like numbers do, so simply assigning them numbers can mislead the model into thinking that there is some kind of relationship between these numbers.\n",
    "\n",
    "Even though this claim is valid, it won't be an issue in our case because we will use something called an embedding layer. An embedding layer maps each letter to a dense vector in a continuous space. These vectors are learned during training, and they help the model understand relationships between letters in a more meaningful way. For example, letters that often appear together in words will have vectors that are closer to each other, while letters that don’t have much in common will have vectors that are farther apart.\n",
    "\n",
    "So, while simple numerical encoding is not ideal, the embedding layer will learn and adjust the representations, allowing the model to perform better.\n",
    "</font>"
   ]
  },
  {
   "cell_type": "markdown",
   "id": "92070a74-0f42-435d-a3ba-b38f0d1aaf3c",
   "metadata": {
    "deletable": false,
    "editable": false
   },
   "source": [
    "## Section 2: Implementing the Autocomplete model"
   ]
  },
  {
   "cell_type": "markdown",
   "id": "6cbb965e-afcd-41ae-86f0-2f3d4682e18b",
   "metadata": {
    "deletable": false,
    "editable": false
   },
   "source": [
    "We will implement a RNN model based on LSTM. The [video tutorial](https://www.youtube.com/watch?v=tL5puCeDr-o) will be useful. Our model will be only one hidden layer, but feel free to sophisticate with more layers after the project for your own experiments.\n",
    "\n",
    "Our model will contain all the training and prediction methods as single package in a class (autocompleteModel) we will define and implement below."
   ]
  },
  {
   "cell_type": "code",
   "execution_count": 5,
   "id": "0dfe311c-669d-4d58-a833-ae3970b6d271",
   "metadata": {},
   "outputs": [],
   "source": [
    "LEARNING_RATE = 0.005"
   ]
  },
  {
   "cell_type": "code",
   "execution_count": 6,
   "id": "4976fc91-2c4e-497a-954e-9014dd31be5e",
   "metadata": {},
   "outputs": [],
   "source": [
    "class autocompleteModel(nn.Module):\n",
    "    # Constructor\n",
    "    def __init__(self, alphabet_size, embed_dim, hidden_size, num_layers):\n",
    "        super().__init__()\n",
    "\n",
    "        # Set the input parameters to self parameters\n",
    "        self.alphabet_size = alphabet_size\n",
    "        self.embed_dim = embed_dim\n",
    "        self.hidden_size = hidden_size\n",
    "        self.num_layers = num_layers\n",
    "\n",
    "        # Initialize the layers in the model\n",
    "        #1 embedding layer, 1 - LSTM cell (hidden layer), 1 fully connected layer with linear activation\n",
    "        self.embed_layer = nn.Embedding(self.alphabet_size, self.embed_dim)\n",
    "        self.LSTM = nn.LSTM(self.embed_dim, self.hidden_size, self.num_layers, batch_first=True)\n",
    "        self.fc = nn.Linear(self.hidden_size, self.alphabet_size)\n",
    "\n",
    "    # Feedforward\n",
    "    def forward(self, character, hidden_state, cell_state):\n",
    "        #Perform feedforward in order\n",
    "        #1. Embed the input (one charcter represented by a number)\n",
    "        #2. Feed the embedded output to the LSTM cell\n",
    "        #3. Feed the LSTM output to the fully connected layer to obtain the output\n",
    "        #4. return the output, and both the hidden state and cell state from the LSTM cell output\n",
    "        embedding = self.embed_layer(character)\n",
    "        lstm_out, (hidden_state, cell_state) = self.LSTM(embedding.view(1, 1, -1), (hidden_state, cell_state))\n",
    "        output = self.fc(lstm_out.view(1, -1))\n",
    "        return output, hidden_state, cell_state\n",
    "\n",
    "    #Intialize the first hidden state and cell state (for the start of a word) as zero tensors of required length.\n",
    "    def initial_state(self):\n",
    "        h0 = torch.zeros(self.num_layers, 1, self.hidden_size)\n",
    "        c0 = torch.zeros(self.num_layers, 1, self.hidden_size)\n",
    "        return (h0, c0)\n",
    "\n",
    "    #Train the model in epochs given the vocab, the training will be fed in batches of batch_size\n",
    "    def trainModel(self, vocab, epochs=5, batch_size=100):\n",
    "\n",
    "        #Convert the model into train mode\n",
    "        self.train()\n",
    "        #Set the optimizer (ADAM), you may need to provide the model parameters  and learning rate\n",
    "        optimizer = optim.Adam(self.parameters(), lr=LEARNING_RATE)\n",
    "        #Keep a log of the loss at the end of each training cycle.\n",
    "        loss_log = []\n",
    "\n",
    "        for e in range(epochs):\n",
    "\n",
    "            #TODO: Shuffle the vocab list the start of each epoch\n",
    "            random.shuffle(vocab)\n",
    "            num_iter = len(vocab) // batch_size\n",
    "            batch_loss_list = []\n",
    "\n",
    "            for i in tqdm(range(num_iter), desc=f\" Training - Epoch {e + 1}/{epochs} \", unit=\"batch\"):\n",
    "\n",
    "                #TODO: Set the loss to zero, initialize the optimizer with zero_grad at the beginning of each training cycle.\n",
    "                batch_loss = 0\n",
    "                optimizer.zero_grad()\n",
    "\n",
    "                # Extract the batch\n",
    "                vocab_batch = vocab[i * batch_size:(i + 1) * batch_size]\n",
    "\n",
    "                for word in vocab_batch:\n",
    "                    #TODO: Initialize the hidden state and cell state at the start of each word.\n",
    "                    hidden_state, cell_state = self.initial_state()\n",
    "\n",
    "                    #TODO: Convert the word into a tensor of number and create input and target from the word\n",
    "                    #Input will be the first WORD_SIZE - 1 charcters and target is the last WORD_SIZE - 1 charcters\n",
    "                    input_tensor = word_to_numlist(word[:WORD_SIZE - 1])\n",
    "                    target_tensor = word_to_numlist(word[1:WORD_SIZE])\n",
    "\n",
    "                    # Loop through each character in the word\n",
    "                    for c in range(WORD_SIZE - 1):\n",
    "                        #TODO: Feed the cth character to the model (feedforward) and comput the loss (use cross entropy in torch)\n",
    "                        output, hidden_state, cell_state = self.forward(input_tensor[c].unsqueeze(0), hidden_state, cell_state)\n",
    "                        loss = nn.functional.cross_entropy(output, target_tensor[c].view(1))\n",
    "                        batch_loss += loss\n",
    "\n",
    "                #TODO: Compute the average loss per word in the batch and perform backpropagation (.backward())\n",
    "                batch_loss /= len(vocab_batch)\n",
    "                batch_loss.backward()\n",
    "\n",
    "                #TODO: Update model parameters using the optimizer\n",
    "                optimizer.step()\n",
    "                #Update the loss_log \n",
    "                batch_loss_list.append(batch_loss.item())\n",
    "\n",
    "            print(\"Epoch: \", e + 1, \" Training loss per word : \", batch_loss.item())\n",
    "            loss_log.append(np.mean(batch_loss_list))\n",
    "\n",
    "        #TODO Plot a graph of the variation of the loss.\n",
    "        plt.figure(figsize=(8, 6))\n",
    "        plt.plot(loss_log)\n",
    "        plt.xlabel('Epochs')\n",
    "        plt.ylabel('Loss')\n",
    "        plt.title('Training Loss vs Epochs')\n",
    "        plt.show()\n",
    "\n",
    "    #Perform autocmplete given a sample of strings (typically 3-5 starting letters)\n",
    "    def autocomplete(self, sample):\n",
    "        #Convert the model into evaluation mode\n",
    "        self.eval()\n",
    "        completed_list = []\n",
    "\n",
    "        #TODO: In the following loop for each sample item initialize hidden and cell states, then predict the remaining characters\n",
    "        for i in tqdm(range(len(sample)), desc=\"Prediction\", unit=\"word\"):\n",
    "            literal = sample[i]\n",
    "            hidden_state, cell_state = self.initial_state()\n",
    "            input_tensor = word_to_numlist(literal)\n",
    "            predicted = literal\n",
    "\n",
    "            for p in range(len(literal) - 1):\n",
    "                init_input = input_tensor[p].unsqueeze(0)\n",
    "                _, hidden_state, cell_state = self.forward(init_input, hidden_state, cell_state)\n",
    "\n",
    "            init_input = input_tensor[-1].unsqueeze(0)\n",
    "\n",
    "            #You will have to convert the output into a softmax (you may use your softmax method from the last project) probability distribution, then use torch.multinomial \n",
    "            for g in range(WORD_SIZE):\n",
    "                output, hidden_state, cell_state = self.forward(init_input, hidden_state, cell_state)\n",
    "                output_prob = nn.functional.softmax(output, dim=1)\n",
    "                top_1 = torch.multinomial(output_prob, 1)[0]\n",
    "                pred_char = num_to_char(top_1.item())\n",
    "                predicted += pred_char\n",
    "                init_input = torch.tensor(char_to_num(pred_char)).unsqueeze(0)\n",
    "\n",
    "            completed_list.append(predicted)\n",
    "\n",
    "        return(completed_list)"
   ]
  },
  {
   "cell_type": "markdown",
   "id": "1f9b5489-b770-4519-b20c-4f2beebfb8f9",
   "metadata": {
    "deletable": false,
    "editable": false
   },
   "source": [
    "## Section 3: Using and evaluating the model\n",
    "\n",
    "(i) Feel free to initialize a autocompleteModel using different embedding dimensions and hidden layer sizes. Use different learning rates, epochs, batch sizes. Train the best model you can. Show the loss curves in you answers.\n",
    "\n",
    "(ii) Evaluate it on different samples of partially filled in words. Eg: [\"univ\", \"math\", \"neur\", \"engin\"] etc. Please show outputs for different samples.\n",
    "\n",
    "<font color='blue'>Comment on the results. Is it successful? Do you see familiar substrings in the generated tesxt such as \"tion\", \"ing\", \"able\" etc. What are your suggestions to improve the model?</font>"
   ]
  },
  {
   "cell_type": "code",
   "execution_count": 7,
   "id": "f6e16d6b-6460-4fce-8757-aac766683e53",
   "metadata": {},
   "outputs": [],
   "source": [
    "model = autocompleteModel( alphabet_size = 27 ,\n",
    "                           embed_dim = 100, \n",
    "                           hidden_size = 128, \n",
    "                           num_layers = 1)"
   ]
  },
  {
   "cell_type": "code",
   "execution_count": 8,
   "id": "83b96919",
   "metadata": {},
   "outputs": [
    {
     "name": "stderr",
     "output_type": "stream",
     "text": [
      " Training - Epoch 1/20 : 100%|██████████| 88/88 [01:28<00:00,  1.00s/batch]\n"
     ]
    },
    {
     "name": "stdout",
     "output_type": "stream",
     "text": [
      "Epoch:  1  Training loss per word :  14.568717002868652\n"
     ]
    },
    {
     "name": "stderr",
     "output_type": "stream",
     "text": [
      " Training - Epoch 2/20 : 100%|██████████| 88/88 [01:34<00:00,  1.07s/batch]\n"
     ]
    },
    {
     "name": "stdout",
     "output_type": "stream",
     "text": [
      "Epoch:  2  Training loss per word :  14.169864654541016\n"
     ]
    },
    {
     "name": "stderr",
     "output_type": "stream",
     "text": [
      " Training - Epoch 3/20 : 100%|██████████| 88/88 [01:35<00:00,  1.09s/batch]\n"
     ]
    },
    {
     "name": "stdout",
     "output_type": "stream",
     "text": [
      "Epoch:  3  Training loss per word :  13.524555206298828\n"
     ]
    },
    {
     "name": "stderr",
     "output_type": "stream",
     "text": [
      " Training - Epoch 4/20 : 100%|██████████| 88/88 [01:36<00:00,  1.10s/batch]\n"
     ]
    },
    {
     "name": "stdout",
     "output_type": "stream",
     "text": [
      "Epoch:  4  Training loss per word :  13.2160062789917\n"
     ]
    },
    {
     "name": "stderr",
     "output_type": "stream",
     "text": [
      " Training - Epoch 5/20 : 100%|██████████| 88/88 [01:35<00:00,  1.09s/batch]\n"
     ]
    },
    {
     "name": "stdout",
     "output_type": "stream",
     "text": [
      "Epoch:  5  Training loss per word :  13.305241584777832\n"
     ]
    },
    {
     "name": "stderr",
     "output_type": "stream",
     "text": [
      " Training - Epoch 6/20 : 100%|██████████| 88/88 [01:35<00:00,  1.08s/batch]\n"
     ]
    },
    {
     "name": "stdout",
     "output_type": "stream",
     "text": [
      "Epoch:  6  Training loss per word :  11.641826629638672\n"
     ]
    },
    {
     "name": "stderr",
     "output_type": "stream",
     "text": [
      " Training - Epoch 7/20 : 100%|██████████| 88/88 [01:34<00:00,  1.08s/batch]\n"
     ]
    },
    {
     "name": "stdout",
     "output_type": "stream",
     "text": [
      "Epoch:  7  Training loss per word :  11.182146072387695\n"
     ]
    },
    {
     "name": "stderr",
     "output_type": "stream",
     "text": [
      " Training - Epoch 8/20 : 100%|██████████| 88/88 [01:37<00:00,  1.10s/batch]\n"
     ]
    },
    {
     "name": "stdout",
     "output_type": "stream",
     "text": [
      "Epoch:  8  Training loss per word :  11.243267059326172\n"
     ]
    },
    {
     "name": "stderr",
     "output_type": "stream",
     "text": [
      " Training - Epoch 9/20 : 100%|██████████| 88/88 [01:35<00:00,  1.08s/batch]\n"
     ]
    },
    {
     "name": "stdout",
     "output_type": "stream",
     "text": [
      "Epoch:  9  Training loss per word :  11.235906600952148\n"
     ]
    },
    {
     "name": "stderr",
     "output_type": "stream",
     "text": [
      " Training - Epoch 10/20 : 100%|██████████| 88/88 [01:36<00:00,  1.09s/batch]\n"
     ]
    },
    {
     "name": "stdout",
     "output_type": "stream",
     "text": [
      "Epoch:  10  Training loss per word :  10.815437316894531\n"
     ]
    },
    {
     "name": "stderr",
     "output_type": "stream",
     "text": [
      " Training - Epoch 11/20 : 100%|██████████| 88/88 [01:38<00:00,  1.12s/batch]\n"
     ]
    },
    {
     "name": "stdout",
     "output_type": "stream",
     "text": [
      "Epoch:  11  Training loss per word :  10.749048233032227\n"
     ]
    },
    {
     "name": "stderr",
     "output_type": "stream",
     "text": [
      " Training - Epoch 12/20 : 100%|██████████| 88/88 [01:36<00:00,  1.09s/batch]\n"
     ]
    },
    {
     "name": "stdout",
     "output_type": "stream",
     "text": [
      "Epoch:  12  Training loss per word :  10.433521270751953\n"
     ]
    },
    {
     "name": "stderr",
     "output_type": "stream",
     "text": [
      " Training - Epoch 13/20 : 100%|██████████| 88/88 [01:34<00:00,  1.08s/batch]\n"
     ]
    },
    {
     "name": "stdout",
     "output_type": "stream",
     "text": [
      "Epoch:  13  Training loss per word :  9.902721405029297\n"
     ]
    },
    {
     "name": "stderr",
     "output_type": "stream",
     "text": [
      " Training - Epoch 14/20 : 100%|██████████| 88/88 [01:39<00:00,  1.13s/batch]\n"
     ]
    },
    {
     "name": "stdout",
     "output_type": "stream",
     "text": [
      "Epoch:  14  Training loss per word :  10.618120193481445\n"
     ]
    },
    {
     "name": "stderr",
     "output_type": "stream",
     "text": [
      " Training - Epoch 15/20 : 100%|██████████| 88/88 [01:37<00:00,  1.11s/batch]\n"
     ]
    },
    {
     "name": "stdout",
     "output_type": "stream",
     "text": [
      "Epoch:  15  Training loss per word :  10.213113784790039\n"
     ]
    },
    {
     "name": "stderr",
     "output_type": "stream",
     "text": [
      " Training - Epoch 16/20 : 100%|██████████| 88/88 [01:43<00:00,  1.17s/batch]\n"
     ]
    },
    {
     "name": "stdout",
     "output_type": "stream",
     "text": [
      "Epoch:  16  Training loss per word :  9.655303001403809\n"
     ]
    },
    {
     "name": "stderr",
     "output_type": "stream",
     "text": [
      " Training - Epoch 17/20 : 100%|██████████| 88/88 [01:42<00:00,  1.16s/batch]\n"
     ]
    },
    {
     "name": "stdout",
     "output_type": "stream",
     "text": [
      "Epoch:  17  Training loss per word :  9.821187019348145\n"
     ]
    },
    {
     "name": "stderr",
     "output_type": "stream",
     "text": [
      " Training - Epoch 18/20 : 100%|██████████| 88/88 [01:35<00:00,  1.08s/batch]\n"
     ]
    },
    {
     "name": "stdout",
     "output_type": "stream",
     "text": [
      "Epoch:  18  Training loss per word :  9.413468360900879\n"
     ]
    },
    {
     "name": "stderr",
     "output_type": "stream",
     "text": [
      " Training - Epoch 19/20 : 100%|██████████| 88/88 [01:34<00:00,  1.07s/batch]\n"
     ]
    },
    {
     "name": "stdout",
     "output_type": "stream",
     "text": [
      "Epoch:  19  Training loss per word :  9.875690460205078\n"
     ]
    },
    {
     "name": "stderr",
     "output_type": "stream",
     "text": [
      " Training - Epoch 20/20 : 100%|██████████| 88/88 [01:35<00:00,  1.08s/batch]"
     ]
    },
    {
     "name": "stdout",
     "output_type": "stream",
     "text": [
      "Epoch:  20  Training loss per word :  9.548742294311523\n"
     ]
    },
    {
     "name": "stderr",
     "output_type": "stream",
     "text": [
      "\n"
     ]
    },
    {
     "data": {
      "image/png": "[encoded data removed]",
      "text/plain": [
       "<Figure size 800x600 with 1 Axes>"
      ]
     },
     "metadata": {},
     "output_type": "display_data"
    }
   ],
   "source": [
    "model.trainModel(vocab = vocab, epochs = 20)"
   ]
  },
  {
   "cell_type": "code",
   "execution_count": 23,
   "id": "f1f74076",
   "metadata": {},
   "outputs": [
    {
     "name": "stderr",
     "output_type": "stream",
     "text": [
      "Prediction: 100%|██████████| 4/4 [00:00<00:00, 144.22word/s]\n"
     ]
    },
    {
     "data": {
      "text/plain": [
       "['universe_________',\n",
       " 'mathelled________',\n",
       " 'neural___________',\n",
       " 'engineer__________']"
      ]
     },
     "execution_count": 23,
     "metadata": {},
     "output_type": "execute_result"
    }
   ],
   "source": [
    "model.autocomplete([\"univ\", \"math\", \"neur\", \"engin\"])"
   ]
  },
  {
   "cell_type": "code",
   "execution_count": 57,
   "id": "95a59450",
   "metadata": {},
   "outputs": [
    {
     "name": "stderr",
     "output_type": "stream",
     "text": [
      "Prediction: 100%|██████████| 6/6 [00:00<00:00, 133.63word/s]\n"
     ]
    },
    {
     "data": {
      "text/plain": [
       "['equal____________',\n",
       " 'excellent________',\n",
       " 'improvings_______',\n",
       " 'general___________',\n",
       " 'translation________',\n",
       " 'valuation________']"
      ]
     },
     "execution_count": 57,
     "metadata": {},
     "output_type": "execute_result"
    }
   ],
   "source": [
    "model.autocomplete([\"equa\", \"exce\", \"impr\", \"gener\", \"transl\", \"valu\"])"
   ]
  },
  {
   "cell_type": "markdown",
   "id": "edae17c8",
   "metadata": {},
   "source": [
    "**Answer**\n",
    "\n",
    "<font color='green'>\n",
    "\n",
    "Results Analysis:\n",
    "\n",
    "\"univ\" → \"universe_________\"\n",
    "The completion of \"univ\" to \"universe\" is accurate and relevant, suggesting the model learned the correct continuation.\n",
    "\n",
    "\"math\" → \"mathelled________\"\n",
    "This result is less satisfactory. \"Mathelled\" is not a valid word, and the model might be struggling to find a familiar continuation for \"math.\"\n",
    "\n",
    "\"neur\" → \"neural___________\"\n",
    "\"Neural\" is a valid word and a correct prediction. The model likely learned medical or biological terminology.\n",
    "\n",
    "\"engin\" → \"engineer__________\"\n",
    "\"Engineer\" is a sensible completion and correct.\n",
    "\n",
    "\"equa\" → \"equal____________\"\n",
    "\"Equal\" is a correct and valid word completion.\n",
    "\n",
    "\"exce\" → \"excellent________\"\n",
    "\"Excellent\" is another correct prediction, which is highly relevant.\n",
    "\n",
    "\"impr\" → \"improvings_______\"\n",
    "The prefix \"impr\" is correctly continued with \"improvings,\" though this is grammatically incorrect. It might have been expected to generate \"improvement\" or \"improving.\"\n",
    "\n",
    "\"gener\" → \"general___________\"\n",
    "\"General\" is a common and valid word completion.\n",
    "\n",
    "\"transl\" → \"translation________\"\n",
    "\"Translation\" is a proper completion, matching the expected pattern.\n",
    "\n",
    "\"valu\" → \"valuation________\"\n",
    "\"Valuation\" is a valid and correct completion.\n",
    "\n",
    "Familiar Substrings\n",
    "- We do see familiar substrings like \"tion\" in \"translation\" and \"valuation\" as well as \"ing\" in \"improvings\". However, there are issues in words like \"mathelled\" and \"improvings,\" where the model generates inaccurate endings.\n",
    "\n",
    "Suggestions for Improvement\n",
    "- Train longer: Increase the number of training epochs to help the model learn better word patterns.\n",
    "\n",
    "- Improve training data: Use a larger and more varied dataset to help the model predict words more accurately.\n",
    "\n",
    "- Use pretrained embeddings: Try using word embeddings like GloVe or FastText, which already know many words and their meanings.\n",
    "\n",
    "- Add dropout: Include dropout layers in the model to prevent it from memorizing specific patterns and help it generalize better.\n",
    "\n",
    "</font>"
   ]
  },
  {
   "cell_type": "markdown",
   "id": "451a8a14",
   "metadata": {},
   "source": []
  }
 ],
 "metadata": {
  "kernelspec": {
   "display_name": "Python 3.9.0 ('cv')",
   "language": "python",
   "name": "python3"
  },
  "language_info": {
   "codemirror_mode": {
    "name": "ipython",
    "version": 3
   },
   "file_extension": ".py",
   "mimetype": "text/x-python",
   "name": "python",
   "nbconvert_exporter": "python",
   "pygments_lexer": "ipython3",
   "version": "3.9.0"
  },
  "vscode": {
   "interpreter": {
    "hash": "fffff532a40ef30061b2c21fbdf0ad63dbbec83c48bfab354e8a499d7b348239"
   }
  }
 },
 "nbformat": 4,
 "nbformat_minor": 5
}
